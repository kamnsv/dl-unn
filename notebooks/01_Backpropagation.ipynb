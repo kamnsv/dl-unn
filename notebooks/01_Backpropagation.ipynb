{
 "cells": [
  {
   "cell_type": "markdown",
   "id": "e5ca3aef-76cc-40fd-90c1-ab4f9ef7b85a",
   "metadata": {},
   "source": [
    "# Лабораторная работа №1\n",
    "\n",
    "## Реализация алгоритма обратного распространения ошибки\n",
    "\n",
    "### Содержание\n",
    "\n",
    "[Активационные функции](#Активационные-функции)\n",
    "   \n",
    "- [Линейная функция](#Линейная-функция)\n",
    "- [Сигмоида](#sigmoida)\n",
    "- [ReLU](#ReLU)\n",
    "  \n",
    "[Слои нейросетей](#Слои-нейросетей)\n",
    "\n",
    "- [Полносвязный слой](#Полносвязный-слой)\n",
    "\n",
    "[Конструктор нейросети](#Конструктор-нейросети)\n",
    "- [Пример обучения](#Пример-обучения)\n",
    "- [Задача XOR](#Задача-XOR)\n",
    "- [Создание нейросети](#Создание-нейросети)\n",
    "- [Обучение нейросети](#Обучение-нейросети)\n",
    "- [Вывод](#%D0%92%D1%8B%D0%B2%D0%BE%D0%B4)"
   ]
  },
  {
   "cell_type": "code",
   "execution_count": 31,
   "id": "df85ea31-1114-433a-9adb-dd2101e6462f",
   "metadata": {},
   "outputs": [],
   "source": [
    "# Подключение библиотек\n",
    "import numpy as np\n",
    "from abc import ABC, abstractclassmethod"
   ]
  },
  {
   "cell_type": "markdown",
   "id": "0b3f280c-e9c9-41d6-9319-2623e77e577a",
   "metadata": {},
   "source": [
    "## Активационные функции"
   ]
  },
  {
   "cell_type": "code",
   "execution_count": 32,
   "id": "95fd2df3-92c0-41e3-817b-65762b7dd209",
   "metadata": {},
   "outputs": [],
   "source": [
    "# Объединение вещественных чисел и массивов NumPy. \n",
    "# Nbg для описания функций, которые принимают как скаляры, так и массивы.\n",
    "ArrayLike = float | np.ndarray\n",
    "\n",
    "class Active(ABC):    \n",
    "    \"\"\"\n",
    "    Абстрактный базовый класс функций активации.\n",
    "\n",
    "    Наследники должны реализовать статические методы __call__ и dx,\n",
    "    вычисляющие значение функции и её производную для входных данных.\n",
    "    \"\"\"\n",
    "    \n",
    "    @staticmethod\n",
    "    @abstractclassmethod\n",
    "    def __call__(x: ArrayLike) -> ArrayLike:\n",
    "        \"\"\"\n",
    "        Вычислить активацию.\n",
    "\n",
    "        Аргументы:\n",
    "            x: входные данные (число или массив).\n",
    "        \n",
    "        Возвращает:\n",
    "            Значение функции активации.\n",
    "        \"\"\"\n",
    "        pass\n",
    "        \n",
    "    @staticmethod\n",
    "    @abstractclassmethod\n",
    "    def dx(x: ArrayLike) -> ArrayLike:\n",
    "        \"\"\"\n",
    "        Вычислить производную функции активации.\n",
    "\n",
    "        Аргументы:\n",
    "            x: значения функции активации (не исходные данные).\n",
    "        \n",
    "        Возвращает:\n",
    "            Производная функции активации.\n",
    "        \"\"\"\n",
    "        pass"
   ]
  },
  {
   "cell_type": "markdown",
   "id": "59c577e6-0daf-4a4d-a301-9c39be2b7250",
   "metadata": {},
   "source": [
    "### Линейная функция\n",
    "\n",
    "    Линейная функция активации возвращает входное значение без изменений.\n",
    "    Используется в задачах регрессии на выходном слое, либо для простых моделей.\n",
    "    Производная функции постоянна и равна 1.\n",
    "    \n",
    "    Ограничение: если все слои нейросети используют линейные функции активации, \n",
    "    итоговая сеть будет линейной и не сможет обучаться сложным нелинейным закономерностям.\n",
    "\n"
   ]
  },
  {
   "cell_type": "code",
   "execution_count": 705,
   "id": "baa1580e-942d-424e-b7f4-d065305ce3de",
   "metadata": {},
   "outputs": [],
   "source": [
    "class Liner(Active):\n",
    "    \n",
    "    @staticmethod\n",
    "    def __call__(x: ArrayLike) -> ArrayLike:\n",
    "        \"\"\"\n",
    "        Линейная функция активации.\n",
    "\n",
    "        Аргументы:\n",
    "            x: Входные данные, скаляр или массив.\n",
    "\n",
    "        Возвращает:\n",
    "            То же значение, что и вход, без изменений.\n",
    "        \"\"\"\n",
    "        return x\n",
    "\n",
    "    @staticmethod\n",
    "    def dx(x: ArrayLike) -> ArrayLike:\n",
    "        \"\"\"\n",
    "        Производная линейной функции активации.\n",
    "\n",
    "        Аргументы:\n",
    "            x: Не влияет на результат, передаётся для соответствия интерфейсу.\n",
    "\n",
    "        Возвращает:\n",
    "            Постоянное значение 1 того же типа, что и x.\n",
    "        \"\"\"\n",
    "        if isinstance(x, np.ndarray):\n",
    "            return np.ones_like(x)\n",
    "        else:\n",
    "            return 1.0\n"
   ]
  },
  {
   "cell_type": "markdown",
   "id": "4e1dee1c-1dd1-4499-943e-ee0157823d08",
   "metadata": {},
   "source": [
    "### Cигмоида <a id=\"sigmoida\"></a>\n",
    "\n",
    "        Сигмоидная функция — это S-образная (сигмоидальная) функция, \n",
    "        которая преобразует любое входное вещественное число в значение \n",
    "        в диапазоне от 0 до 1. Этот диапазон удобно интерпретировать как \n",
    "        вероятность, поэтому sigmoid часто используется в выходных слоях \n",
    "        нейронных сетей, решающих задачи бинарной классификации.\n",
    "        \n",
    "        Применение сигмоиды распространено в машинном обучении и глубоком обучении \n",
    "        именно для преобразования линейных комбинаций входных данных и весов нейрона \n",
    "        в нелинейные выходы. Это позволяет моделям обучаться сложным закономерностям,\n",
    "        делая их более выразительными, чем простые линейные функции.\n",
    "            \n",
    "        Диапазон значений функции сигмоида: (0, 1). Значение близкое к 0 \n",
    "        соответствует сильному отрицательному входу, значение близкое к 1 — сильному \n",
    "        положительному входу, а при входе 0 выход ровно 0.5.\n",
    "        \n",
    "        Однако сигмоида имеет и некоторые ограничения, например, проблему затухающего\n",
    "        градиента (из-за производной), что может замедлять обучение глубоких моделей.\n",
    "\n",
    "        Производная сигмоиды важна для обучения нейронных сетей методом\n",
    "        обратного распространения ошибки, так как она используется для\n",
    "        расчёта градиентов, необходимых для обновления весов.\n",
    "\n",
    "        Производная вычисляется по формуле:\n",
    "            sigmoid'(x) = x * (1 - x),\n",
    "        где x — значение функции сигмоида в данной точке.\n",
    "\n",
    "        Наибольшее значение производной (0.25) достигается при входе,\n",
    "        соответствующем выходу 0.5 (точка перегиба), а для значений близких к 0 или 1\n",
    "        (насыщение функции) производная стремится к нулю, что ведёт к проблеме\n",
    "        затухающего градиента и замедляет обучение глубоких сетей."
   ]
  },
  {
   "cell_type": "code",
   "execution_count": 34,
   "id": "45e500a9-cedc-4e95-ba7b-91a1b0521722",
   "metadata": {},
   "outputs": [],
   "source": [
    "class Sigmoid(Active):\n",
    "    \n",
    "    @staticmethod\n",
    "    def __call__(x: ArrayLike) -> ArrayLike:\n",
    "        \"\"\"\n",
    "        Активационная функция - сигмоида.\n",
    "        \n",
    "        Аргументы:\n",
    "            x: Входные данные, могут быть числами или массивами.\n",
    "    \n",
    "        Возвращает:\n",
    "            Значения функции, лежащие в диапазоне от 0 до 1.\n",
    "            \n",
    "        Пример:\n",
    "            >>> import numpy as np\n",
    "            >>> sigmoid(np.array([-2, 0, 2]))\n",
    "            array([0.11920292, 0.5, 0.88079708])\n",
    "        \"\"\"\n",
    "        return 1 / (1 + np.exp(-x))\n",
    "\n",
    "    @staticmethod\n",
    "    def dx(x: ArrayLike) -> ArrayLike:\n",
    "        \"\"\"\n",
    "        Производная сигмоидной функции.\n",
    "    \n",
    "        Аргументы:\n",
    "            x: Значения функции сигмоиды (не исходные аргументы),\n",
    "               для которых вычисляется производная.\n",
    "    \n",
    "        Возвращает:\n",
    "            Производные значения сигмоидной функции, численно выражающие\n",
    "            скорость изменения функции активации в данной точке. Диапазон \n",
    "            производной лежит в интервале (0, 0.25).\n",
    "    \n",
    "        Пример:\n",
    "            >>> import numpy as np\n",
    "            >>> s = 1 / (1 + np.exp(-np.array([-2., 0., 2.])))\n",
    "            >>> Sigmoid.dx(s)\n",
    "            array([0.10499359, 0.25      , 0.10499359])\n",
    "        \"\"\"\n",
    "        return x * (1 - x)           "
   ]
  },
  {
   "cell_type": "markdown",
   "id": "b3f19f91-0be8-4d48-93a0-bf0ba32dda8f",
   "metadata": {},
   "source": [
    "### ReLU\n",
    "    ReLU возвращает 0 для всех отрицательных значений входа и\n",
    "    входное значение без изменений для неотрицательных. \n",
    "    Это простая и эффективная функция, широко используемая \n",
    "    для устранения проблемы затухающего градиента в глубоких сетях."
   ]
  },
  {
   "cell_type": "code",
   "execution_count": 35,
   "id": "b1b62c4d-e06f-4b6b-9f5c-c866531774e3",
   "metadata": {},
   "outputs": [],
   "source": [
    "class ReLU(Active):\n",
    "\n",
    "    @staticmethod\n",
    "    def __call__(x: ArrayLike) -> ArrayLike:\n",
    "        \"\"\"\n",
    "        Функция активации ReLU (Rectified Linear Unit).\n",
    "\n",
    "        Аргументы:\n",
    "            x: Входные данные, скаляр или массив.\n",
    "\n",
    "        Возвращает:\n",
    "            Значения, где отрицательные элементы заменены на 0, \n",
    "            положительные остались без изменений.\n",
    "        \"\"\"\n",
    "        return np.maximum(0, x)\n",
    "\n",
    "    @staticmethod\n",
    "    def dx(x: ArrayLike) -> ArrayLike:\n",
    "        \"\"\"\n",
    "        Производная функции ReLU.\n",
    "\n",
    "        Аргументы:\n",
    "            x: Входные данные (реальное значение функции активации)\n",
    "        Возвращает:\n",
    "            1 для положительных элементов x, 0 для отрицательных и нуля.\n",
    "        \"\"\"\n",
    "        return np.where(x > 0, 1, 0)\n"
   ]
  },
  {
   "cell_type": "markdown",
   "id": "bbac263f-3497-487f-8292-9381e9e180b4",
   "metadata": {},
   "source": [
    "## Слои нейросетей"
   ]
  },
  {
   "cell_type": "code",
   "execution_count": 529,
   "id": "07c55209-10ad-45a7-a3a6-5f1af8c29bfd",
   "metadata": {},
   "outputs": [],
   "source": [
    "# Абсрактный класс слоя нейросети\n",
    "\n",
    "from abc import ABC, abstractmethod\n",
    "\n",
    "class Layer(ABC):\n",
    "    \"\"\"\n",
    "    Абстрактный базовый класс слоя нейронной сети.\n",
    "\n",
    "    Этот класс задаёт общий интерфейс для всех конкретных реализаций слоёв нейронной сети.\n",
    "    Его нельзя инстанцировать напрямую — необходимо создавать подклассы и реализовывать\n",
    "    все абстрактные методы.\n",
    "\n",
    "    Использование:\n",
    "        Наследовать этот класс в конкретном слое (например, Dense, Convolutional и т.д.) и\n",
    "        полностью реализовать методы forward и backward, соответствующие специфике слоя.\n",
    "    \"\"\"\n",
    "    @abstractmethod\n",
    "    def __init__(self, input_shape:tuple[int], active: Active | None= None):\n",
    "        pass\n",
    "    \n",
    "    def connect(self, next_layer: Layer):\n",
    "        \"\"\"\n",
    "        Присоединение к следующему слою.\n",
    "        Запуск инициализации весов.\n",
    "        \"\"\"\n",
    "        self.output_shape = next_layer.input_shape\n",
    "        self.init_weights()\n",
    "        \n",
    "    @abstractmethod\n",
    "    def init_weights(self):\n",
    "        \"\"\"\n",
    "        Алгоритм инициализации весов модели.\n",
    "        \"\"\"\n",
    "        pass\n",
    "        \n",
    "    @abstractmethod\n",
    "    def forward(self, X: np.ndarray) -> np.ndarray:\n",
    "        \"\"\"\n",
    "        Прямое распространение данных через слой.\n",
    "        Выполняет прямое распространение входных данных через слой.\n",
    "        Принимает входной тензор и возвращает выход слоя — тот же или преобразованный тензор.\n",
    "        \n",
    "        Аргументы:\n",
    "            X: Входной массив данных, который нужно пропустить через слой.\n",
    "\n",
    "        Возвращает:\n",
    "            Результат прохождения данных через слой.\n",
    "        \"\"\"\n",
    "        pass\n",
    "\n",
    "    @abstractmethod\n",
    "    def backward(self, gradient: np.ndarray) -> np.ndarray:\n",
    "        \"\"\"\n",
    "        Обратное распространение ошибки через слой.\n",
    "        Выполняет обратное распространение ошибки через слой.\n",
    "        Принимает градиенты ошибки, полученные от следующего слоя, и рассчитывает\n",
    "        локальные градиенты для текущего слоя.\n",
    "        Обновляет внутренние параметры слоя (например, веса) на основе этих градиентов.\n",
    "        \n",
    "        Аргументы:\n",
    "            gradient: Градиенты ошибки, поступающие от следующего слоя.\n",
    "\n",
    "        Возвращает:\n",
    "            Градиенты ошибки относительно входов текущего слоя,\n",
    "            используемые для передачи в предыдущий слой.\n",
    "        \"\"\"\n",
    "        pass\n",
    "    "
   ]
  },
  {
   "cell_type": "markdown",
   "id": "5b690095-8c19-4159-a4e8-c68145a4b962",
   "metadata": {},
   "source": [
    "### Полносвязный слой"
   ]
  },
  {
   "cell_type": "code",
   "execution_count": 708,
   "id": "9148a63e-e42a-494e-b4fe-0be4c166d294",
   "metadata": {},
   "outputs": [],
   "source": [
    "class Dense(Layer):\n",
    "    \"\"\"\n",
    "    Полносвязный (Dense) слой нейронной сети.\n",
    "\n",
    "    Атрибуты:\n",
    "        input_shape (tuple[int]): Размерность входного вектора (число признаков).\n",
    "        output_shape (tuple[int]): Размерность выходного вектора (число нейронов).\n",
    "        weights (np.ndarray | None): Матрица весов размера (input_features, output_features).\n",
    "        bias (np.ndarray | None): Вектор смещений размера (1, output_features).\n",
    "        output (np.ndarray | None): Выход слоя после активации.\n",
    "        input (np.ndarray | None): Входной массив, сохранённый для обратного прохода.\n",
    "        delta (np.ndarray | None): Ошибка слоя для обратного распространения.\n",
    "        active (Active): Функция активации.\n",
    "    \"\"\"\n",
    "\n",
    "    def __init__(self, input_shape: tuple[int], active: Active | None = None, *, output_shape: tuple[int] | None = None):\n",
    "        \"\"\"\n",
    "        Инициализация слоя Dense.\n",
    "\n",
    "        Аргументы:\n",
    "            input_shape: Размерность входных данных.\n",
    "            active: Функция активации, по умолчанию линейная.\n",
    "            output_shape: Размерность выходных данных. \n",
    "                          Если задана, происходит инициализация весов.\n",
    "        \"\"\"\n",
    "        self.input_shape = input_shape\n",
    "        self.weights = None\n",
    "        self.bias = None\n",
    "        self.output = None\n",
    "        self.input = None\n",
    "        self.delta = None\n",
    "        self.active = active or Liner()\n",
    "        if output_shape is not None:\n",
    "            self.output_shape = output_shape\n",
    "            self.init_weights()\n",
    "\n",
    "    def init_weights(self):\n",
    "        \"\"\"\n",
    "        Инициализация весов и смещений.\n",
    "\n",
    "        Веса инициализируются случайными значениями из нормального распределения,\n",
    "        масштабированными на 0.05. Смещения инициализируются нулями.\n",
    "        \"\"\"\n",
    "        self.weights = np.random.randn(self.input_shape[0], self.output_shape[0]) * 0.05\n",
    "        self.bias = np.zeros((1, self.output_shape[0]))\n",
    "\n",
    "    def forward(self, X: np.ndarray):\n",
    "        \"\"\"\n",
    "        Прямой проход слоя.\n",
    "\n",
    "        Вычисляет линейное преобразование входа с весами и смещением,\n",
    "        затем применяет функцию активации.\n",
    "\n",
    "        Аргументы:\n",
    "            X: Входной массив размерности (batch_size, input_features).\n",
    "\n",
    "        Возвращает:\n",
    "            Выход слоя после активации размерности (batch_size, output_features).\n",
    "        \"\"\"\n",
    "        self.input = X\n",
    "        z = X @ self.weights\n",
    "        self.output = self.active(z + self.bias)\n",
    "        return self.output\n",
    "\n",
    "    def backward(self, output_error, learning_rate):\n",
    "        \"\"\"\n",
    "        Обратное распространение ошибки и обновление параметров слоя.\n",
    "    \n",
    "        Вычисляет локальную ошибку слоя с учётом производной функции активации,\n",
    "        затем применяет метод стохастического градиентного спуска (SGD) для \n",
    "        обновления весов и смещений.\n",
    "    \n",
    "        Обновление весов и смещений происходит по формуле:\n",
    "            параметр := параметр + learning_rate * градиент\n",
    "\n",
    "        Аргументы:\n",
    "            output_error: Ошибка, поступающая от следующего слоя\n",
    "                          размерности (batch_size, output_features).\n",
    "            learning_rate: Темп обучения.\n",
    "\n",
    "        Возвращает:\n",
    "            Ошибка для передачи предыдущему слою (batch_size, input_features).\n",
    "        \"\"\"\n",
    "        delta = output_error * self.active.dx(self.output)\n",
    "        self.delta = delta\n",
    "        weights_error = np.dot(self.input.T, delta)\n",
    "        self.weights += learning_rate * weights_error\n",
    "        self.bias += learning_rate * np.sum(delta, axis=0, keepdims=True)\n",
    "        input_error = np.dot(delta, self.weights.T)\n",
    "        return input_error\n"
   ]
  },
  {
   "cell_type": "markdown",
   "id": "74848c37-3eb8-4bba-9140-35f249112bf8",
   "metadata": {},
   "source": [
    "## Конструктор нейросети"
   ]
  },
  {
   "cell_type": "code",
   "execution_count": 709,
   "id": "24e465f7-56c1-4a65-bf72-5c4d4fc955ae",
   "metadata": {},
   "outputs": [],
   "source": [
    "class NeuralNetwork:\n",
    "    \"\"\"\n",
    "    Класс простой нейронной сети с последовательным размещением слоев.\n",
    "    \"\"\"\n",
    "\n",
    "    def __init__(self, layers: list[Layer] | None = None):\n",
    "        \"\"\"\n",
    "        Инициализация нейросети.\n",
    "\n",
    "        Если передан список слоёв, они добавляются в сеть.\n",
    "\n",
    "        Аргументы:\n",
    "            layers: Список слоёв для нейросети (опционально).\n",
    "        \"\"\"\n",
    "        self.layers: list[Layer] = []\n",
    "        if layers is not None:\n",
    "            for layer in layers:\n",
    "                self.add(layer)\n",
    "\n",
    "    def add(self, layer: Layer):\n",
    "        \"\"\"\n",
    "        Добавляет новый слой в конец сети.\n",
    "\n",
    "        Если последний слой ещё не инициализирован (например, веса None),\n",
    "        устанавливает связь с новым слоем.\n",
    "\n",
    "        Аргументы:\n",
    "            layer: Слой для добавления.\n",
    "        \"\"\"\n",
    "        if len(self.layers):\n",
    "            if self.layers[-1].weights is None:\n",
    "                self.layers[-1].connect(layer)\n",
    "        self.layers.append(layer)\n",
    "\n",
    "    def forward(self, X: np.ndarray):\n",
    "        \"\"\"\n",
    "        Прямое вычисление выходных данных сети для входных данных X.\n",
    "\n",
    "        Аргументы:\n",
    "            X: Входные данные для сети, форма (batch_size, features).\n",
    "\n",
    "        Возвращает:\n",
    "            Выход сети после прохода по всем слоям.\n",
    "        \"\"\"\n",
    "        assert len(self.layers)\n",
    "        output = self.layers[0].forward(X)\n",
    "        for layer in self.layers[1:]:\n",
    "            output = layer.forward(output)\n",
    "        return output\n",
    "\n",
    "    def backward(self, X: np.ndarray, y: np.ndarray, learning_rate: float):\n",
    "        \"\"\"\n",
    "        Обратное распространение ошибки и обновление весов сети.\n",
    "\n",
    "        Производится прямой проход для получения выхода,\n",
    "        вычисляется ошибка, затем ошибки проходят по слоям в обратном порядке\n",
    "        для корректировки весов с использованием learning_rate.\n",
    "\n",
    "        Аргументы:\n",
    "            X: Входные данные, форма (batch_size, features).\n",
    "            y: Целевые значения (метки), форма (batch_size, output_features).\n",
    "            learning_rate: Темп обучения для обновления весов.\n",
    "        \"\"\"\n",
    "        output_out = self.forward(X)\n",
    "        output_error = y - output_out\n",
    "        for layer in reversed(self.layers):\n",
    "            output_error = layer.backward(output_error, learning_rate)\n",
    "\n",
    "    def train(self, X: np.ndarray, y: np.ndarray, learning_rate: float, epochs: int):\n",
    "        \"\"\"\n",
    "        Тренировка нейросети методом обратного распространения с указанным числом эпох.\n",
    "\n",
    "        Аргументы:\n",
    "            X: Обучающие входные данные.\n",
    "            y: Обучающие метки.\n",
    "            learning_rate: Скорость обучения.\n",
    "            epochs : Количество итераций обучения (эпох).\n",
    "        \"\"\"\n",
    "        for epoch in range(epochs):\n",
    "            self.backward(X, y, learning_rate)\n"
   ]
  },
  {
   "cell_type": "markdown",
   "id": "bdcc92ee-110e-4177-bdc6-dfe3e9d6639b",
   "metadata": {},
   "source": [
    "## Пример обучения"
   ]
  },
  {
   "cell_type": "markdown",
   "id": "ad530d33-5447-4d18-8677-46ff8c10ea4c",
   "metadata": {},
   "source": [
    "### Задача XOR\n",
    "\n",
    "    Задача XOR — классическая проблема в развитии искусственных нейронных сетей, которая\n",
    "    заключается в том, что однослойный персептрон не может корректно классифицировать входные \n",
    "    данные для функции \"исключающее ИЛИ\" (XOR), так как набор данных не является линейно разделимым.\n",
    "\n",
    "    Эта неспособность стала причиной первой \"зимы ИИ\" — периода снижения интереса и финансирования\n",
    "    исследований в области искусственного интеллекта, продолжавшегося примерно с середины 1960-х до начала 1980-х годов.\n",
    "\n",
    "    Решение проблемы было найдено в 1986 году с разработкой алгоритма обратного распространения \n",
    "    ошибки (Backpropagation) и внедрением многослойных перцептронов, которые смогли успешно решать \n",
    "    негладко разделимые задачи, включая XOR, благодаря наличию скрытых слоёв."
   ]
  },
  {
   "cell_type": "code",
   "execution_count": 710,
   "id": "af3c18dd-b409-4fe3-9b10-ecc07fd07f91",
   "metadata": {},
   "outputs": [
    {
     "data": {
      "text/plain": [
       "((4, 2), (4,))"
      ]
     },
     "execution_count": 710,
     "metadata": {},
     "output_type": "execute_result"
    }
   ],
   "source": [
    "# Датасет XOR\n",
    "# Входные данные (4 образца, 2 признака)\n",
    "X = np.array([[0, 0],\n",
    "              [0, 1],\n",
    "              [1, 0],\n",
    "              [1, 1]])\n",
    "# Метки (целевые значения)\n",
    "y = np.array([0, 1, 1, 0])\n",
    "X.shape, y.shape"
   ]
  },
  {
   "cell_type": "code",
   "execution_count": 711,
   "id": "10bc1fca-c124-4343-82aa-0487a4075f27",
   "metadata": {},
   "outputs": [
    {
     "data": {
      "image/png": "[encoded data removed]",
      "text/plain": [
       "<Figure size 600x600 with 1 Axes>"
      ]
     },
     "metadata": {},
     "output_type": "display_data"
    }
   ],
   "source": [
    "# Визуализация данных XOR\n",
    "plt.figure(figsize=(6,6))\n",
    "for cls, color in zip([0, 1], ['red', 'blue']):\n",
    "    plt.scatter(X[y == cls, 0], X[y == cls, 1], c=color, label=f'Class {cls}')\n",
    "plt.title(\"Задача XOR\")\n",
    "plt.xlabel('X1')\n",
    "plt.ylabel('X2')\n",
    "plt.legend()\n",
    "pass"
   ]
  },
  {
   "cell_type": "markdown",
   "id": "84011b58-565a-48ad-946e-5e9db68ad6b9",
   "metadata": {},
   "source": [
    "### Создание нейросети"
   ]
  },
  {
   "cell_type": "code",
   "execution_count": 712,
   "id": "8be3f6c3-cd55-4911-aa40-6cc0d07db4bd",
   "metadata": {},
   "outputs": [],
   "source": [
    "## Создание многослойной (2-х слойной) полносвязной нейронной сети\n",
    "np.random.seed(42)\n",
    "model = NeuralNetwork([\n",
    "    Dense(input_shape=(2,), active=ReLU()),\n",
    "    Dense(input_shape=(2,), active=ReLU()),\n",
    "    Dense(input_shape=(3,), active=Sigmoid(), output_shape=(1,))\n",
    "])"
   ]
  },
  {
   "cell_type": "code",
   "execution_count": 713,
   "id": "8acd2360-2ac4-4c6b-90e7-2ff0c6386531",
   "metadata": {},
   "outputs": [
    {
     "data": {
      "text/plain": [
       "array([[0.5       ],\n",
       "       [0.50000773],\n",
       "       [0.50003487],\n",
       "       [0.50002642]])"
      ]
     },
     "execution_count": 713,
     "metadata": {},
     "output_type": "execute_result"
    }
   ],
   "source": [
    "model.forward(X)"
   ]
  },
  {
   "cell_type": "code",
   "execution_count": 714,
   "id": "30245c06-87bf-4d41-b64d-c302c4fa9ee3",
   "metadata": {},
   "outputs": [
    {
     "data": {
      "text/plain": [
       "((200,), (200,))"
      ]
     },
     "execution_count": 714,
     "metadata": {},
     "output_type": "execute_result"
    }
   ],
   "source": [
    "# Данные для отображения\n",
    "x_min, x_max = -0.5, 1.5\n",
    "y_min, y_max = -0.5, 1.5\n",
    "x1, x2 = np.linspace(x_min, x_max, 200), np.linspace(y_min, y_max, 200)\n",
    "x1.shape, x2.shape"
   ]
  },
  {
   "cell_type": "code",
   "execution_count": 715,
   "id": "f104b4bb-f118-4c42-959e-004ca7ca5d96",
   "metadata": {},
   "outputs": [
    {
     "data": {
      "text/plain": [
       "(200, 2)"
      ]
     },
     "execution_count": 715,
     "metadata": {},
     "output_type": "execute_result"
    }
   ],
   "source": [
    "data_x = np.column_stack((x1, x2))\n",
    "data_x.shape"
   ]
  },
  {
   "cell_type": "code",
   "execution_count": 716,
   "id": "d979b323-72f9-4cd8-a5ee-002baea31592",
   "metadata": {},
   "outputs": [
    {
     "data": {
      "text/plain": [
       "(array([[0.5],\n",
       "        [0.5],\n",
       "        [0.5],\n",
       "        [0.5],\n",
       "        [0.5]]),\n",
       " (200, 1))"
      ]
     },
     "execution_count": 716,
     "metadata": {},
     "output_type": "execute_result"
    }
   ],
   "source": [
    "predict = model.forward(data_x)\n",
    "predict[:5], predict.shape"
   ]
  },
  {
   "cell_type": "code",
   "execution_count": 717,
   "id": "9fa9b296-39c1-49bd-adec-d85320e313d5",
   "metadata": {},
   "outputs": [
    {
     "data": {
      "text/plain": [
       "(40000, 2)"
      ]
     },
     "execution_count": 717,
     "metadata": {},
     "output_type": "execute_result"
    }
   ],
   "source": [
    "xx, yy = np.meshgrid(x1, x2)\n",
    "grid = np.c_[xx.ravel(), yy.ravel()]\n",
    "grid.shape"
   ]
  },
  {
   "cell_type": "code",
   "execution_count": 718,
   "id": "2f5858f4-9595-48af-ab80-391a1231d78a",
   "metadata": {},
   "outputs": [
    {
     "data": {
      "text/plain": [
       "(40000, 1)"
      ]
     },
     "execution_count": 718,
     "metadata": {},
     "output_type": "execute_result"
    }
   ],
   "source": [
    "# предсказания модели по этим точкам (размер (40000, 1))\n",
    "predict = model.forward(grid)\n",
    "predict.shape"
   ]
  },
  {
   "cell_type": "code",
   "execution_count": 719,
   "id": "f1989685-f751-4224-bb2d-c067bf126263",
   "metadata": {},
   "outputs": [
    {
     "data": {
      "text/plain": [
       "(200, 200)"
      ]
     },
     "execution_count": 719,
     "metadata": {},
     "output_type": "execute_result"
    }
   ],
   "source": [
    "# (40000, 1) -> (200, 200)\n",
    "predict = predict.reshape(200, 200)\n",
    "predict.shape"
   ]
  },
  {
   "cell_type": "code",
   "execution_count": 720,
   "id": "12df711a-3765-44c7-967a-a4806afc7cbb",
   "metadata": {},
   "outputs": [
    {
     "data": {
      "image/png": "[encoded data removed]",
      "text/plain": [
       "<Figure size 600x600 with 1 Axes>"
      ]
     },
     "metadata": {},
     "output_type": "display_data"
    }
   ],
   "source": [
    "plt.figure(figsize=(6,6))\n",
    "plt.contour(xx, yy, predict, levels=[0.5], colors='green')\n",
    "for cls, color in zip([0, 1], ['red', 'blue']):\n",
    "    plt.scatter(X[y == cls, 0], X[y == cls, 1], c=color, label=f'Class {cls}')\n",
    "plt.xlabel('x1')\n",
    "plt.ylabel('x2')\n",
    "plt.title('Разделение данных в задаче XOR необученной нейросетью')\n",
    "plt.show()\n"
   ]
  },
  {
   "cell_type": "markdown",
   "id": "af4643e4-c83c-420d-b3fb-08516786155d",
   "metadata": {},
   "source": [
    "### Обучение нейросети"
   ]
  },
  {
   "cell_type": "code",
   "execution_count": 721,
   "id": "66fa5452-61f7-40cf-828d-1545736acc5d",
   "metadata": {},
   "outputs": [
    {
     "name": "stdout",
     "output_type": "stream",
     "text": [
      "Input: [0 0] Output: [[0.00762283]]\n",
      "Input: [0 1] Output: [[0.99812529]]\n",
      "Input: [1 0] Output: [[0.99830754]]\n",
      "Input: [1 1] Output: [[0.00762283]]\n"
     ]
    }
   ],
   "source": [
    "model.train(X, y.reshape(4,1), learning_rate=0.5, epochs=10000)\n",
    "\n",
    "for x_sample in X:\n",
    "    output = model.forward(x_sample)\n",
    "    print(f\"Input: {x_sample} Output: {output}\")"
   ]
  },
  {
   "cell_type": "code",
   "execution_count": 722,
   "id": "8bd8ebdf-4239-412e-822b-54e30b8de2ed",
   "metadata": {},
   "outputs": [
    {
     "data": {
      "image/png": "[encoded data removed]",
      "text/plain": [
       "<Figure size 600x600 with 1 Axes>"
      ]
     },
     "metadata": {},
     "output_type": "display_data"
    }
   ],
   "source": [
    "predict = model.forward(grid)\n",
    "\n",
    "plt.figure(figsize=(6,6))\n",
    "plt.contour(xx, yy, predict.reshape(200, 200), levels=[0.5], colors='green')\n",
    "for cls, color in zip([0, 1], ['red', 'blue']):\n",
    "    plt.scatter(X[y == cls, 0], X[y == cls, 1], c=color, label=f'Class {cls}')\n",
    "plt.xlabel('x1')\n",
    "plt.ylabel('x2')\n",
    "plt.title('Разделение данных в задаче XOR обученной нейросетью')\n",
    "plt.show()\n"
   ]
  },
  {
   "cell_type": "markdown",
   "id": "4f2e85b0-4350-4adc-8685-29e0698f20d3",
   "metadata": {},
   "source": [
    "## Вывод\n",
    "\n",
    "    В ходе работы был изучен и реализован метод обратного распространения ошибки \n",
    "    для обучения нейронных сетей. В частности, реализован простой стохастический \n",
    "    градиентный спуск (SGD), а также базовые классы полносвязного слоя (Dense) и \n",
    "    функций активации — сигмоидальной (Sigmoid) и ReLU.\n",
    "\n",
    "    Работоспособность модели успешно продемонстрирована на классической задаче XOR.\n",
    "\n"
   ]
  },
  {
   "cell_type": "code",
   "execution_count": null,
   "id": "cfedfe98-7345-4546-9d03-93f5ef5e0384",
   "metadata": {},
   "outputs": [],
   "source": []
  }
 ],
 "metadata": {
  "kernelspec": {
   "display_name": "Python 3 (ipykernel)",
   "language": "python",
   "name": "python3"
  },
  "language_info": {
   "codemirror_mode": {
    "name": "ipython",
    "version": 3
   },
   "file_extension": ".py",
   "mimetype": "text/x-python",
   "name": "python",
   "nbconvert_exporter": "python",
   "pygments_lexer": "ipython3",
   "version": "3.11.11"
  }
 },
 "nbformat": 4,
 "nbformat_minor": 5
}
