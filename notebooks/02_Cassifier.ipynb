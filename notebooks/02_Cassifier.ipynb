{
 "cells": [
  {
   "cell_type": "code",
   "execution_count": 68,
   "id": "80b15962-32d1-4abb-9768-1a4243580683",
   "metadata": {},
   "outputs": [],
   "source": [
    "import torch\n",
    "import torch.nn as nn\n",
    "import torch.optim as optim\n",
    "from torchvision import datasets, transforms\n",
    "from torch.utils.data import DataLoader\n",
    "from torchmetrics.classification import MulticlassF1Score\n",
    "from tqdm import tqdm\n",
    "import matplotlib.pyplot as plt"
   ]
  },
  {
   "cell_type": "code",
   "execution_count": 80,
   "id": "3d40a132-14cc-4a31-96e9-7459e750d097",
   "metadata": {},
   "outputs": [],
   "source": [
    "# F1 для training и validation\n",
    "train_f1_metric = MulticlassF1Score(num_classes=10, average='macro').to(device)\n",
    "val_f1_metric = MulticlassF1Score(num_classes=10, average='macro').to(device)\n",
    "\n",
    "train_losses = []\n",
    "val_losses = []\n",
    "train_f1_scores = []\n",
    "val_f1_scores = []\n",
    "\n",
    "# Трансформации для данных (нормализация)\n",
    "transform = transforms.Compose([\n",
    "    transforms.ToTensor()\n",
    "])"
   ]
  },
  {
   "cell_type": "code",
   "execution_count": 81,
   "id": "fec916b6-d927-4bbf-942d-a26168dd4b09",
   "metadata": {},
   "outputs": [],
   "source": [
    "# Загрузка датасета MNIST\n",
    "train_dataset = datasets.MNIST(root='./data', train=True, download=True, transform=transform)\n",
    "test_dataset = datasets.MNIST(root='./data', train=False, download=True, transform=transform)\n",
    "\n",
    "train_loader = DataLoader(train_dataset, batch_size=64, shuffle=True)\n",
    "test_loader = DataLoader(test_dataset, batch_size=1000, shuffle=False)"
   ]
  },
  {
   "cell_type": "code",
   "execution_count": 82,
   "id": "c8f7dd45-a6a9-4fa0-9c10-0c2eaa419e48",
   "metadata": {},
   "outputs": [],
   "source": [
    "# Определение модели сверточной нейронной сети\n",
    "class SimpleCNN(nn.Module):\n",
    "    def __init__(self):\n",
    "        super(SimpleCNN, self).__init__()\n",
    "        self.conv1 = nn.Conv2d(1, 32, kernel_size=5)  # 1 канал вход, 32 выхода, ядро 5x5\n",
    "        self.pool = nn.MaxPool2d(2, 2)  # MaxPooling 2x2\n",
    "        self.conv2 = nn.Conv2d(32, 64, kernel_size=5)\n",
    "        self.fc1 = nn.Linear(64 * 4 * 4, 1000)  # размер после свертки и пулинга\n",
    "        self.fc2 = nn.Linear(1000, 10)  # 10 классов\n",
    "\n",
    "    def forward(self, x):\n",
    "        x = self.pool(torch.relu(self.conv1(x)))  # conv1 + ReLU + maxpool\n",
    "        x = self.pool(torch.relu(self.conv2(x)))  # conv2 + ReLU + maxpool\n",
    "        x = x.view(-1, 64 * 4 * 4)  # разворот в плоский вектор\n",
    "        x = torch.relu(self.fc1(x))  # полносвязный слой + ReLU\n",
    "        x = self.fc2(x)  # выходной слой\n",
    "        return x"
   ]
  },
  {
   "cell_type": "code",
   "execution_count": 83,
   "id": "4dae79f4-4216-4518-bb61-055cbd5f0eaa",
   "metadata": {},
   "outputs": [],
   "source": [
    "# Инициализация сети, функции потерь и оптимизатора\n",
    "model = SimpleCNN()\n",
    "criterion = nn.CrossEntropyLoss()\n",
    "optimizer = optim.Adam(model.parameters(), lr=0.001)"
   ]
  },
  {
   "cell_type": "code",
   "execution_count": 84,
   "id": "7f37800e-97a7-4af9-98b6-b4372b4496e7",
   "metadata": {},
   "outputs": [],
   "source": [
    "def train(model, device, train_loader, optimizer, criterion, f1_metric):\n",
    "    model.train()\n",
    "    running_loss = 0.0\n",
    "    f1_metric.reset()\n",
    "    train_tqdm = tqdm(train_loader, desc=\"Training\", leave=False)\n",
    "    for data, target in train_tqdm:\n",
    "        data, target = data.to(device), target.to(device)\n",
    "        optimizer.zero_grad()\n",
    "        output = model(data)\n",
    "        loss = criterion(output, target)\n",
    "        loss.backward()\n",
    "        optimizer.step()\n",
    "        running_loss += loss.item()\n",
    "        pred = output.argmax(dim=1)\n",
    "        f1_metric.update(pred, target)\n",
    "        train_tqdm.set_postfix(loss=loss.item())\n",
    "    avg_loss = running_loss / len(train_loader)\n",
    "    train_losses.append(avg_loss)\n",
    "    f1_score = f1_metric.compute()\n",
    "    train_f1_scores.append(f1_score.item())\n",
    "    print(f'Train loss: {avg_loss:.4f}, Train F1: {f1_score:.4f}')"
   ]
  },
  {
   "cell_type": "code",
   "execution_count": 85,
   "id": "35dd66a9-7ec6-4c14-af01-ee829c62f8b1",
   "metadata": {},
   "outputs": [],
   "source": [
    "def validate(model, device, val_loader, criterion, f1_metric):\n",
    "    model.eval()\n",
    "    val_loss = 0.0\n",
    "    correct = 0\n",
    "    f1_metric.reset()\n",
    "    val_tqdm = tqdm(val_loader, desc=\"Validating\", leave=False)\n",
    "    with torch.no_grad():\n",
    "        for data, target in val_tqdm:\n",
    "            data, target = data.to(device), target.to(device)\n",
    "            output = model(data)\n",
    "            loss = criterion(output, target)\n",
    "            val_loss += loss.item()\n",
    "            pred = output.argmax(dim=1)\n",
    "            correct += pred.eq(target).sum().item()\n",
    "            f1_metric.update(pred, target)\n",
    "    avg_val_loss = val_loss / len(val_loader)\n",
    "    val_losses.append(avg_val_loss)\n",
    "    f1_score = f1_metric.compute()\n",
    "    val_f1_scores.append(f1_score.item())\n",
    "    print(f'Validation loss: {avg_val_loss:.4f}, Validation F1: {f1_score:.4f}, Accuracy: {correct / len(val_loader.dataset):.4f}')"
   ]
  },
  {
   "cell_type": "code",
   "execution_count": 86,
   "id": "9d5bf6b3-966d-4570-81f0-d0d1479aa4c1",
   "metadata": {},
   "outputs": [],
   "source": [
    "def plot_metrics():\n",
    "    epochs = range(1, len(train_losses) + 1)\n",
    "    plt.figure(figsize=(12, 6))\n",
    "    plt.plot(epochs, train_losses, 'b-', label='Train Loss')\n",
    "    plt.plot(epochs, val_losses, 'r-', label='Validation Loss')\n",
    "    plt.plot(epochs, train_f1_scores, 'c-', label='Train F1')\n",
    "    plt.plot(epochs, val_f1_scores, 'g-', label='Validation F1')\n",
    "    plt.xlabel('Epoch')\n",
    "    plt.legend()\n",
    "    plt.grid(True)\n",
    "    plt.title('Training and Validation Metrics')\n",
    "    plt.show()"
   ]
  },
  {
   "cell_type": "code",
   "execution_count": 87,
   "id": "e302879c-2fe7-4cb2-aa6b-dbd5f95be10c",
   "metadata": {},
   "outputs": [
    {
     "name": "stdout",
     "output_type": "stream",
     "text": [
      "cuda\n"
     ]
    }
   ],
   "source": [
    "# Выбор устройства (GPU если доступно)\n",
    "device = torch.device(\"cuda\" if torch.cuda.is_available() else \"cpu\")\n",
    "model.to(device)\n",
    "print(device)"
   ]
  },
  {
   "cell_type": "code",
   "execution_count": 88,
   "id": "336e4f9f-c555-453b-9f0a-13c97ade9efb",
   "metadata": {},
   "outputs": [
    {
     "name": "stdout",
     "output_type": "stream",
     "text": [
      "Epoch 1\n"
     ]
    },
    {
     "name": "stderr",
     "output_type": "stream",
     "text": [
      "                                                                                                                                                                                                                                           "
     ]
    },
    {
     "name": "stdout",
     "output_type": "stream",
     "text": [
      "Train loss: 0.1295, Train F1: 0.9599\n"
     ]
    },
    {
     "name": "stderr",
     "output_type": "stream",
     "text": [
      "                                                                                                                                                                                                                                           "
     ]
    },
    {
     "name": "stdout",
     "output_type": "stream",
     "text": [
      "Validation loss: 0.0452, Validation F1: 0.9854, Accuracy: 0.9854\n",
      "Epoch 2\n"
     ]
    },
    {
     "name": "stderr",
     "output_type": "stream",
     "text": [
      "                                                                                                                                                                                                                                           "
     ]
    },
    {
     "name": "stdout",
     "output_type": "stream",
     "text": [
      "Train loss: 0.0403, Train F1: 0.9874\n"
     ]
    },
    {
     "name": "stderr",
     "output_type": "stream",
     "text": [
      "                                                                                                                                                                                                                                           "
     ]
    },
    {
     "name": "stdout",
     "output_type": "stream",
     "text": [
      "Validation loss: 0.0351, Validation F1: 0.9883, Accuracy: 0.9884\n",
      "Epoch 3\n"
     ]
    },
    {
     "name": "stderr",
     "output_type": "stream",
     "text": [
      "                                                                                                                                                                                                                                           "
     ]
    },
    {
     "name": "stdout",
     "output_type": "stream",
     "text": [
      "Train loss: 0.0267, Train F1: 0.9913\n"
     ]
    },
    {
     "name": "stderr",
     "output_type": "stream",
     "text": [
      "                                                                                                                                                                                                                                           "
     ]
    },
    {
     "name": "stdout",
     "output_type": "stream",
     "text": [
      "Validation loss: 0.0286, Validation F1: 0.9905, Accuracy: 0.9906\n",
      "Epoch 4\n"
     ]
    },
    {
     "name": "stderr",
     "output_type": "stream",
     "text": [
      "                                                                                                                                                                                                                                           "
     ]
    },
    {
     "name": "stdout",
     "output_type": "stream",
     "text": [
      "Train loss: 0.0191, Train F1: 0.9938\n"
     ]
    },
    {
     "name": "stderr",
     "output_type": "stream",
     "text": [
      "                                                                                                                                                                                                                                           "
     ]
    },
    {
     "name": "stdout",
     "output_type": "stream",
     "text": [
      "Validation loss: 0.0373, Validation F1: 0.9885, Accuracy: 0.9885\n",
      "Epoch 5\n"
     ]
    },
    {
     "name": "stderr",
     "output_type": "stream",
     "text": [
      "                                                                                                                                                                                                                                           "
     ]
    },
    {
     "name": "stdout",
     "output_type": "stream",
     "text": [
      "Train loss: 0.0149, Train F1: 0.9953\n"
     ]
    },
    {
     "name": "stderr",
     "output_type": "stream",
     "text": [
      "                                                                                                                                                                                                                                           "
     ]
    },
    {
     "name": "stdout",
     "output_type": "stream",
     "text": [
      "Validation loss: 0.0336, Validation F1: 0.9904, Accuracy: 0.9904\n"
     ]
    },
    {
     "name": "stderr",
     "output_type": "stream",
     "text": []
    }
   ],
   "source": [
    "# Пример цикла обучения\n",
    "for epoch in range(1, 6):\n",
    "    print(f'Epoch {epoch}')\n",
    "    train(model, device, train_loader, optimizer, criterion, train_f1_metric)\n",
    "    validate(model, device, test_loader, criterion, val_f1_metric)\n"
   ]
  },
  {
   "cell_type": "code",
   "execution_count": 89,
   "id": "ca239f16-c4b1-4190-9d99-c9f678e4f409",
   "metadata": {},
   "outputs": [
    {
     "data": {
      "image/png": "[encoded data removed]",
      "text/plain": [
       "<Figure size 1200x600 with 1 Axes>"
      ]
     },
     "metadata": {},
     "output_type": "display_data"
    }
   ],
   "source": [
    "# График с метриками\n",
    "plot_metrics()"
   ]
  },
  {
   "cell_type": "code",
   "execution_count": null,
   "id": "e8fd89fe-d37c-4239-850e-1991f970d0f4",
   "metadata": {},
   "outputs": [],
   "source": []
  },
  {
   "cell_type": "code",
   "execution_count": null,
   "id": "373d293b-348a-48a0-bf7d-7f5afec0af23",
   "metadata": {},
   "outputs": [],
   "source": []
  }
 ],
 "metadata": {
  "kernelspec": {
   "display_name": "Python 3 (ipykernel)",
   "language": "python",
   "name": "python3"
  },
  "language_info": {
   "codemirror_mode": {
    "name": "ipython",
    "version": 3
   },
   "file_extension": ".py",
   "mimetype": "text/x-python",
   "name": "python",
   "nbconvert_exporter": "python",
   "pygments_lexer": "ipython3",
   "version": "3.11.11"
  }
 },
 "nbformat": 4,
 "nbformat_minor": 5
}
